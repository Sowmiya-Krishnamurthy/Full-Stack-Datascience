{
 "cells": [
  {
   "cell_type": "markdown",
   "id": "c8a25dda",
   "metadata": {},
   "source": [
    "# Python: \n",
    "\n",
    "\n",
    "## Basic Assignment 1 :\n",
    "\n",
    "\n",
    "## Solution:"
   ]
  },
  {
   "cell_type": "markdown",
   "id": "fe935a77",
   "metadata": {},
   "source": [
    "#### 1. In the below elements which of them are values or an expression? \n",
    "<b>Example: values can be integer or string and expressions will be mathematical operators.</b>\n",
    "\n",
    "*<br>\n",
    "'hello'  \n",
    "-87.8       \n",
    "-<br>\n",
    "/<br>\n",
    "+<br>\n",
    "6  <br>     \n",
    "\n",
    "#### Ans: \n",
    "There are 4 Expressions (mathematical operators) and  3 Values(string/Float/Integer)<br>\n",
    "*: Expression(Mathematical operators)<br>\n",
    "'hello': Value (String Datatype)<br>\n",
    "-87.8: Value (Float Datatype)<br>\n",
    "-: Expression(Mathematical operators)<br>\n",
    "/ : Expression(Mathematical operators)<br>\n",
    "+: Expression(Mathematical operators)<br>\n",
    "6 : Value (Integer Datatype)<br>"
   ]
  },
  {
   "cell_type": "markdown",
   "id": "fdf4a62f",
   "metadata": {},
   "source": [
    "#### 2. What is the difference between string and variable?\n",
    "\n",
    "#### Ans: \n",
    "* A Variable is used to store the information/data and the type of data could be either in the form of integer or float or string.<br>\n",
    "* But the String is type of information we could store in the variable and the string is group of characters or a single character which is always enclosed with the help oh Double Quotes `\" \"` or single quote `''`.<br>\n",
    "\n",
    "<b>Example: </b>\n",
    "name=\"Sowmiya\" , here `'name'` is the variable and `'Sowmiya'` is the string."
   ]
  },
  {
   "cell_type": "code",
   "execution_count": 2,
   "id": "8470e0b9",
   "metadata": {},
   "outputs": [
    {
     "data": {
      "text/plain": [
       "'Sowmiya'"
      ]
     },
     "execution_count": 2,
     "metadata": {},
     "output_type": "execute_result"
    }
   ],
   "source": [
    "#Sowmiya is stored in 'name' variable\n",
    "name=\"Sowmiya\"\n",
    "name"
   ]
  },
  {
   "cell_type": "markdown",
   "id": "078fde46",
   "metadata": {},
   "source": [
    "#### 3. Describe three different data types.\n",
    "\n",
    "#### Ans: \n",
    "There are different data types are in python, usually theirs classification is based on numerical, characters or boolean type.<br>\n",
    "we have,<br>\n",
    "    <b>Integer (int) datatype:</b> This datatype is used to store/represent the whole numbers(Integral Values)<br>\n",
    "    <b>Floating (float) datatype:</b>This datatype is used to store/represent the decimal numbers/floating point numbers(Decimal Values)<br>\n",
    "    <b>String (str) datatype:</b>This datatype is used to store/represent the characters which cane be numbers,alphabets(Alphanumeric)<br>\n",
    "    <b>Boolean (bool) datatype:</b>This datatype is used to store/represent the true and false."
   ]
  },
  {
   "cell_type": "code",
   "execution_count": 24,
   "id": "d327b90c",
   "metadata": {},
   "outputs": [
    {
     "name": "stdout",
     "output_type": "stream",
     "text": [
      "1044 <class 'int'>\n",
      "10.44 <class 'float'>\n",
      "Sowmiya <class 'str'>\n",
      "True <class 'bool'>\n"
     ]
    }
   ],
   "source": [
    "#Example for different datatypes\n",
    "integer_value=1044\n",
    "print(integer_value,type(integer_value))\n",
    "float_value=10.44\n",
    "print(float_value,type(float_value))\n",
    "string_value=\"Sowmiya\"\n",
    "print(string_value,type(string_value))\n",
    "boolean_value=True\n",
    "print(boolean_value,type(boolean_value))"
   ]
  },
  {
   "cell_type": "markdown",
   "id": "fb38846b",
   "metadata": {},
   "source": [
    "#### 4. What is an expression made up of? What do all expressions do?\n",
    "\n",
    "#### Ans: \n",
    "\n",
    "* An Expression is made up of Mathematical operators,Variables and Constants.<br>\n",
    "* All Expressions can do produce the result or values.<br>\n",
    "* In Python the interpreter used to evaluate the expressions and displays the result.<br>\n"
   ]
  },
  {
   "cell_type": "code",
   "execution_count": 4,
   "id": "0eef240f",
   "metadata": {},
   "outputs": [
    {
     "data": {
      "text/plain": [
       "32.5"
      ]
     },
     "execution_count": 4,
     "metadata": {},
     "output_type": "execute_result"
    }
   ],
   "source": [
    "#Example for an expression\n",
    "25+10-5/2\n",
    "\n",
    "#Here interpreter used to evaluate the expressions and displays the result"
   ]
  },
  {
   "cell_type": "markdown",
   "id": "27ada93b",
   "metadata": {},
   "source": [
    "#### 5. This assignment statements, like spam = 10. What is the difference between an expression and a statement?\n",
    "\n",
    "#### Ans: \n",
    "\n",
    "* An expression is a combination of values, variables, and mathematical operators.When we type an expression at the prompt,the interpreter evaluates it, which means that it finds the value of the expression.\n",
    "\n",
    "<b>Example:</b>`25+10-5/2` is an example for a statement.\n",
    "\n",
    "* A statement is a unit of code that has an effect, like creating a variable or displaying a value.When we type a statement,the interpreter executes it, which means that it does whatever the statement says. In general, statements don’t have values.\n",
    "\n",
    "<b>Example:</b> Variable declaration and Assignment are statements because they do not return a value."
   ]
  },
  {
   "cell_type": "code",
   "execution_count": 5,
   "id": "bce06dc3",
   "metadata": {},
   "outputs": [
    {
     "name": "stdout",
     "output_type": "stream",
     "text": [
      "Assignment 1 Completed\n"
     ]
    }
   ],
   "source": [
    "#Example for an expression\n",
    "25+10-5/2\n",
    "\n",
    "#Example for a statement\n",
    "myname=\"Sowmiya\"\n",
    "\n",
    "#Example for an expression statement\n",
    "print(\"Assignment 1 Completed\")\n"
   ]
  },
  {
   "cell_type": "markdown",
   "id": "0b700a8c",
   "metadata": {},
   "source": [
    "#### 6. After running the following code, what does the variable bacon contain?\n",
    "`bacon = 22\n",
    "bacon + 1`\n",
    "\n",
    "#### Ans: \n",
    "\n",
    "The Variable `bacon` will contain 22.\n",
    "\n"
   ]
  },
  {
   "cell_type": "code",
   "execution_count": 6,
   "id": "477756af",
   "metadata": {},
   "outputs": [
    {
     "name": "stdout",
     "output_type": "stream",
     "text": [
      "22\n"
     ]
    }
   ],
   "source": [
    "#Example \n",
    "bacon=22\n",
    "bacon+1\n",
    "print(bacon)\n",
    "\n",
    "#Here bacon contains 22"
   ]
  },
  {
   "cell_type": "markdown",
   "id": "57923a5a",
   "metadata": {},
   "source": [
    "#### 7. What should the values of the following two terms be?\n",
    "`'spam' + 'spamspam'\n",
    "'spam' * 3`\n",
    "\n",
    "#### Ans: \n",
    "\n",
    "In both the cases it shows the same values, it evaluates the string `'spamspamspam'`.\n",
    "* In first expression `'spam' + 'spamspam'` it follows `String Concatenation`.\n",
    "* In Second expression `'spam' * 3` it follows `String Multiplication`.\n"
   ]
  },
  {
   "cell_type": "code",
   "execution_count": 7,
   "id": "21b3dd0e",
   "metadata": {},
   "outputs": [
    {
     "name": "stdout",
     "output_type": "stream",
     "text": [
      "spamspamspam\n",
      "spamspamspam\n"
     ]
    }
   ],
   "source": [
    "#String Concatenation\n",
    "print('spam' + 'spamspam')\n",
    "\n",
    "#String Multiplication\n",
    "print('spam' * 3)"
   ]
  },
  {
   "cell_type": "markdown",
   "id": "e1fd22d0",
   "metadata": {},
   "source": [
    "#### 8. Why is eggs a valid variable name while 100 is invalid?\n",
    "\n",
    "#### Ans: \n",
    "\n",
    "In Python, Variable names should not begin with the numbers.There should be some conditions while naming for the variable,certains conditions are<br>\n",
    "* Variable name should start with a alphabets or letter or underscore character.\n",
    "* Variable name should not start with numbers.\n",
    "* Variable name should not accessed by any keywords.\n",
    "_Hence `Eggs` be the valid variable name  and `100` be the invalid variable name."
   ]
  },
  {
   "cell_type": "code",
   "execution_count": 9,
   "id": "7c5ddf05",
   "metadata": {},
   "outputs": [
    {
     "name": "stdout",
     "output_type": "stream",
     "text": [
      "Full Stack Data Science\n"
     ]
    }
   ],
   "source": [
    "#Initialization of Valid Variable\n",
    "eggs='Full Stack Data Science'\n",
    "print(eggs)"
   ]
  },
  {
   "cell_type": "code",
   "execution_count": 10,
   "id": "1f68f91e",
   "metadata": {},
   "outputs": [
    {
     "ename": "SyntaxError",
     "evalue": "cannot assign to literal (2064205316.py, line 2)",
     "output_type": "error",
     "traceback": [
      "\u001b[1;36m  Input \u001b[1;32mIn [10]\u001b[1;36m\u001b[0m\n\u001b[1;33m    100='Python'\u001b[0m\n\u001b[1;37m    ^\u001b[0m\n\u001b[1;31mSyntaxError\u001b[0m\u001b[1;31m:\u001b[0m cannot assign to literal\n"
     ]
    }
   ],
   "source": [
    "#Initialization of Invalid Variable\n",
    "100='Python'"
   ]
  },
  {
   "cell_type": "markdown",
   "id": "26c2bd55",
   "metadata": {},
   "source": [
    "#### 9. What three functions can be used to get the integer, floating-point number, or string version of a value?\n",
    "\n",
    "#### Ans: \n",
    "\n",
    "The `int()`,`float()`,and `str()` functions evaluates the integer,floating-point number,string datatype of the values passed to them."
   ]
  },
  {
   "cell_type": "code",
   "execution_count": 20,
   "id": "92da6170",
   "metadata": {},
   "outputs": [
    {
     "name": "stdout",
     "output_type": "stream",
     "text": [
      "The Integer Value is  12\n",
      "The Float Value is  26.34\n",
      "The String Value is  Hello iNeuron\n"
     ]
    }
   ],
   "source": [
    "#Example\n",
    "a=int(12)\n",
    "b=float(26.34)\n",
    "c=str('Hello iNeuron')\n",
    "print(\"The Integer Value is \",a)\n",
    "print(\"The Float Value is \",b)\n",
    "print(\"The String Value is \",c)"
   ]
  },
  {
   "cell_type": "markdown",
   "id": "9c045869",
   "metadata": {},
   "source": [
    "#### 10. Why does this expression cause an error? How can you fix it?\n",
    "`'I have eaten ' + 99 + ' burritos.'`\n",
    "\n",
    "#### Ans: \n",
    "\n",
    "* The Concatenation Operation between two different datatypes is not possible. Hence the concatenation between string and integer will cause an error.\n",
    "* We can fix it by using the same datatype for concatenation, let we change the `99` to `str(99)` it will fix the error."
   ]
  },
  {
   "cell_type": "code",
   "execution_count": 21,
   "id": "128861fe",
   "metadata": {},
   "outputs": [
    {
     "ename": "TypeError",
     "evalue": "can only concatenate str (not \"int\") to str",
     "output_type": "error",
     "traceback": [
      "\u001b[1;31m---------------------------------------------------------------------------\u001b[0m",
      "\u001b[1;31mTypeError\u001b[0m                                 Traceback (most recent call last)",
      "Input \u001b[1;32mIn [21]\u001b[0m, in \u001b[0;36m<cell line: 1>\u001b[1;34m()\u001b[0m\n\u001b[1;32m----> 1\u001b[0m \u001b[38;5;28mprint\u001b[39m(\u001b[38;5;124;43m'\u001b[39;49m\u001b[38;5;124;43mI have eaten \u001b[39;49m\u001b[38;5;124;43m'\u001b[39;49m\u001b[43m \u001b[49m\u001b[38;5;241;43m+\u001b[39;49m\u001b[43m \u001b[49m\u001b[38;5;241;43m99\u001b[39;49m \u001b[38;5;241m+\u001b[39m \u001b[38;5;124m'\u001b[39m\u001b[38;5;124m burritos.\u001b[39m\u001b[38;5;124m'\u001b[39m)\n",
      "\u001b[1;31mTypeError\u001b[0m: can only concatenate str (not \"int\") to str"
     ]
    }
   ],
   "source": [
    "print('I have eaten ' + 99 + ' burritos.')"
   ]
  },
  {
   "cell_type": "code",
   "execution_count": 22,
   "id": "87636e47",
   "metadata": {},
   "outputs": [
    {
     "name": "stdout",
     "output_type": "stream",
     "text": [
      "I have eaten 99 burritos.\n"
     ]
    }
   ],
   "source": [
    "#We can fix error by changing 99 to str(99)\n",
    "print('I have eaten ' + str(99) + ' burritos.')"
   ]
  }
 ],
 "metadata": {
  "kernelspec": {
   "display_name": "Python 3 (ipykernel)",
   "language": "python",
   "name": "python3"
  },
  "language_info": {
   "codemirror_mode": {
    "name": "ipython",
    "version": 3
   },
   "file_extension": ".py",
   "mimetype": "text/x-python",
   "name": "python",
   "nbconvert_exporter": "python",
   "pygments_lexer": "ipython3",
   "version": "3.9.12"
  }
 },
 "nbformat": 4,
 "nbformat_minor": 5
}
